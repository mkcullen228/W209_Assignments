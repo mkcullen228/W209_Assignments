{
 "cells": [
  {
   "cell_type": "code",
   "execution_count": 1,
   "metadata": {},
   "outputs": [
    {
     "name": "stderr",
     "output_type": "stream",
     "text": [
      "/usr/local/lib/python2.7/site-packages/matplotlib/font_manager.py:273: UserWarning: Matplotlib is building the font cache using fc-list. This may take a moment.\n",
      "  warnings.warn('Matplotlib is building the font cache using fc-list. This may take a moment.')\n"
     ]
    }
   ],
   "source": [
    "import numpy as np\n",
    "import pandas as pd\n",
    "import datetime\n",
    "from dateutil.parser import parse\n",
    "import matplotlib as plt\n",
    "%matplotlib inline"
   ]
  },
  {
   "cell_type": "code",
   "execution_count": 2,
   "metadata": {},
   "outputs": [
    {
     "name": "stderr",
     "output_type": "stream",
     "text": [
      "/usr/local/lib/python2.7/site-packages/IPython/core/interactiveshell.py:2718: DtypeWarning: Columns (2) have mixed types. Specify dtype option on import or set low_memory=False.\n",
      "  interactivity=interactivity, compiler=compiler, result=result)\n"
     ]
    },
    {
     "data": {
      "text/html": [
       "<div>\n",
       "<table border=\"1\" class=\"dataframe\">\n",
       "  <thead>\n",
       "    <tr style=\"text-align: right;\">\n",
       "      <th></th>\n",
       "      <th>filmName</th>\n",
       "      <th>change</th>\n",
       "      <th>currentRank</th>\n",
       "      <th>distributor</th>\n",
       "      <th>weekGross</th>\n",
       "      <th>week</th>\n",
       "      <th>perTheater</th>\n",
       "      <th>previousRank</th>\n",
       "      <th>theaters</th>\n",
       "      <th>cumeGross</th>\n",
       "      <th>weekEnded</th>\n",
       "    </tr>\n",
       "  </thead>\n",
       "  <tbody>\n",
       "    <tr>\n",
       "      <th>0</th>\n",
       "      <td>Smokey and the Bandit</td>\n",
       "      <td>NaN</td>\n",
       "      <td>1</td>\n",
       "      <td>Universal</td>\n",
       "      <td>2637024</td>\n",
       "      <td>1</td>\n",
       "      <td>5295.0</td>\n",
       "      <td>NaN</td>\n",
       "      <td>498</td>\n",
       "      <td>2637024</td>\n",
       "      <td>5/27/1977</td>\n",
       "    </tr>\n",
       "    <tr>\n",
       "      <th>1</th>\n",
       "      <td>Smokey and the Bandit</td>\n",
       "      <td>-23%</td>\n",
       "      <td>1</td>\n",
       "      <td>Universal</td>\n",
       "      <td>2033608</td>\n",
       "      <td>2</td>\n",
       "      <td>4084.0</td>\n",
       "      <td>1.0</td>\n",
       "      <td>498</td>\n",
       "      <td>4670632</td>\n",
       "      <td>6/3/1977</td>\n",
       "    </tr>\n",
       "    <tr>\n",
       "      <th>2</th>\n",
       "      <td>Smokey and the Bandit</td>\n",
       "      <td>-82%</td>\n",
       "      <td>1</td>\n",
       "      <td>Universal</td>\n",
       "      <td>369188</td>\n",
       "      <td>3</td>\n",
       "      <td>750.0</td>\n",
       "      <td>1.0</td>\n",
       "      <td>492</td>\n",
       "      <td>5039820</td>\n",
       "      <td>6/10/1977</td>\n",
       "    </tr>\n",
       "    <tr>\n",
       "      <th>3</th>\n",
       "      <td>Smokey and the Bandit</td>\n",
       "      <td>-65%</td>\n",
       "      <td>2</td>\n",
       "      <td>Universal</td>\n",
       "      <td>130180</td>\n",
       "      <td>4</td>\n",
       "      <td>657.0</td>\n",
       "      <td>1.0</td>\n",
       "      <td>198</td>\n",
       "      <td>5170000</td>\n",
       "      <td>6/17/1977</td>\n",
       "    </tr>\n",
       "    <tr>\n",
       "      <th>4</th>\n",
       "      <td>Star Wars Ep. IV: A New Hope</td>\n",
       "      <td>NaN</td>\n",
       "      <td>1</td>\n",
       "      <td>20th Century Fox</td>\n",
       "      <td>5473681</td>\n",
       "      <td>5</td>\n",
       "      <td>34864.0</td>\n",
       "      <td>NaN</td>\n",
       "      <td>157</td>\n",
       "      <td>15628913</td>\n",
       "      <td>6/17/1977</td>\n",
       "    </tr>\n",
       "  </tbody>\n",
       "</table>\n",
       "</div>"
      ],
      "text/plain": [
       "                       filmName change currentRank       distributor  \\\n",
       "0         Smokey and the Bandit    NaN           1         Universal   \n",
       "1         Smokey and the Bandit   -23%           1         Universal   \n",
       "2         Smokey and the Bandit   -82%           1         Universal   \n",
       "3         Smokey and the Bandit   -65%           2         Universal   \n",
       "4  Star Wars Ep. IV: A New Hope    NaN           1  20th Century Fox   \n",
       "\n",
       "   weekGross  week  perTheater  previousRank  theaters  cumeGross  weekEnded  \n",
       "0    2637024     1      5295.0           NaN       498    2637024  5/27/1977  \n",
       "1    2033608     2      4084.0           1.0       498    4670632   6/3/1977  \n",
       "2     369188     3       750.0           1.0       492    5039820  6/10/1977  \n",
       "3     130180     4       657.0           1.0       198    5170000  6/17/1977  \n",
       "4    5473681     5     34864.0           NaN       157   15628913  6/17/1977  "
      ]
     },
     "execution_count": 2,
     "metadata": {},
     "output_type": "execute_result"
    }
   ],
   "source": [
    "# Load data sets to use \n",
    "folder = '/Users/mcullen/MyFolder/Documents/UCB_MIDS/W209_DataVisualization/w209-movies/data/'\n",
    "# folder = '/Users/mauracullen/Documents/UCB_MIDS/W209_DataVisualization/Final_Project/w209-movies/data/'\n",
    "\n",
    "df_hws = pd.read_csv(folder+'hollywoodStories_consol_windows_mac.csv')\n",
    "df_hws.head()\n",
    "df_wn = pd.read_csv(folder+'the-numbers-weekly-data.csv')\n",
    "df_wn.head()"
   ]
  },
  {
   "cell_type": "code",
   "execution_count": 3,
   "metadata": {},
   "outputs": [
    {
     "name": "stdout",
     "output_type": "stream",
     "text": [
      "Length hws: 1003\n",
      "Length wn: 126644\n",
      "['filmName' 'normalizedDistributor' 'scoreRotten' 'scoreAudience' 'story'\n",
      " 'genre' 'openingWeekendNumTheaters' 'year' 'domesticGrossAdj'\n",
      " 'foreignGrossAdj' 'worldwideGrossAdj' 'budgetAdj' 'openingWeekend'\n",
      " 'domesticProfitability' 'worldwideProfitability' 'domToForeignRatio'\n",
      " 'openingWeekendGrossPerScreen' 'domesticGrossInfAdj']\n",
      "['filmName' 'change' 'currentRank' 'distributor' 'weekGross' 'week'\n",
      " 'perTheater' 'previousRank' 'theaters' 'cumeGross' 'weekEnded']\n"
     ]
    }
   ],
   "source": [
    "print \"Length hws: %i\" % len(df_hws)\n",
    "print \"Length wn: %i\" % len(df_wn)\n",
    "\n",
    "print df_hws.columns.values\n",
    "print df_wn.columns.values"
   ]
  },
  {
   "cell_type": "code",
   "execution_count": 4,
   "metadata": {},
   "outputs": [
    {
     "name": "stdout",
     "output_type": "stream",
     "text": [
      "1002\n",
      "12343\n"
     ]
    }
   ],
   "source": [
    "print len(np.unique(df_hws['filmName']))\n",
    "print len(np.unique(df_wn['filmName']))"
   ]
  },
  {
   "cell_type": "code",
   "execution_count": 5,
   "metadata": {},
   "outputs": [
    {
     "data": {
      "text/html": [
       "<div>\n",
       "<table border=\"1\" class=\"dataframe\">\n",
       "  <thead>\n",
       "    <tr style=\"text-align: right;\">\n",
       "      <th></th>\n",
       "      <th>filmName</th>\n",
       "      <th>change</th>\n",
       "      <th>currentRank</th>\n",
       "      <th>distributor</th>\n",
       "      <th>weekGross</th>\n",
       "      <th>week</th>\n",
       "      <th>perTheater</th>\n",
       "      <th>previousRank</th>\n",
       "      <th>theaters</th>\n",
       "      <th>cumeGross</th>\n",
       "      <th>weekEnded</th>\n",
       "      <th>Year</th>\n",
       "      <th>Month</th>\n",
       "      <th>Day</th>\n",
       "    </tr>\n",
       "  </thead>\n",
       "  <tbody>\n",
       "    <tr>\n",
       "      <th>0</th>\n",
       "      <td>Smokey and the Bandit</td>\n",
       "      <td>NaN</td>\n",
       "      <td>1</td>\n",
       "      <td>Universal</td>\n",
       "      <td>2637024</td>\n",
       "      <td>1</td>\n",
       "      <td>5295.0</td>\n",
       "      <td>NaN</td>\n",
       "      <td>498</td>\n",
       "      <td>2637024</td>\n",
       "      <td>5/27/1977</td>\n",
       "      <td>1977</td>\n",
       "      <td>5</td>\n",
       "      <td>27</td>\n",
       "    </tr>\n",
       "    <tr>\n",
       "      <th>1</th>\n",
       "      <td>Smokey and the Bandit</td>\n",
       "      <td>-23%</td>\n",
       "      <td>1</td>\n",
       "      <td>Universal</td>\n",
       "      <td>2033608</td>\n",
       "      <td>2</td>\n",
       "      <td>4084.0</td>\n",
       "      <td>1.0</td>\n",
       "      <td>498</td>\n",
       "      <td>4670632</td>\n",
       "      <td>6/3/1977</td>\n",
       "      <td>1977</td>\n",
       "      <td>6</td>\n",
       "      <td>3</td>\n",
       "    </tr>\n",
       "    <tr>\n",
       "      <th>2</th>\n",
       "      <td>Smokey and the Bandit</td>\n",
       "      <td>-82%</td>\n",
       "      <td>1</td>\n",
       "      <td>Universal</td>\n",
       "      <td>369188</td>\n",
       "      <td>3</td>\n",
       "      <td>750.0</td>\n",
       "      <td>1.0</td>\n",
       "      <td>492</td>\n",
       "      <td>5039820</td>\n",
       "      <td>6/10/1977</td>\n",
       "      <td>1977</td>\n",
       "      <td>6</td>\n",
       "      <td>10</td>\n",
       "    </tr>\n",
       "    <tr>\n",
       "      <th>3</th>\n",
       "      <td>Smokey and the Bandit</td>\n",
       "      <td>-65%</td>\n",
       "      <td>2</td>\n",
       "      <td>Universal</td>\n",
       "      <td>130180</td>\n",
       "      <td>4</td>\n",
       "      <td>657.0</td>\n",
       "      <td>1.0</td>\n",
       "      <td>198</td>\n",
       "      <td>5170000</td>\n",
       "      <td>6/17/1977</td>\n",
       "      <td>1977</td>\n",
       "      <td>6</td>\n",
       "      <td>17</td>\n",
       "    </tr>\n",
       "    <tr>\n",
       "      <th>4</th>\n",
       "      <td>Star Wars Ep. IV: A New Hope</td>\n",
       "      <td>NaN</td>\n",
       "      <td>1</td>\n",
       "      <td>20th Century Fox</td>\n",
       "      <td>5473681</td>\n",
       "      <td>5</td>\n",
       "      <td>34864.0</td>\n",
       "      <td>NaN</td>\n",
       "      <td>157</td>\n",
       "      <td>15628913</td>\n",
       "      <td>6/17/1977</td>\n",
       "      <td>1977</td>\n",
       "      <td>6</td>\n",
       "      <td>17</td>\n",
       "    </tr>\n",
       "  </tbody>\n",
       "</table>\n",
       "</div>"
      ],
      "text/plain": [
       "                       filmName change currentRank       distributor  \\\n",
       "0         Smokey and the Bandit    NaN           1         Universal   \n",
       "1         Smokey and the Bandit   -23%           1         Universal   \n",
       "2         Smokey and the Bandit   -82%           1         Universal   \n",
       "3         Smokey and the Bandit   -65%           2         Universal   \n",
       "4  Star Wars Ep. IV: A New Hope    NaN           1  20th Century Fox   \n",
       "\n",
       "   weekGross  week  perTheater  previousRank  theaters  cumeGross  weekEnded  \\\n",
       "0    2637024     1      5295.0           NaN       498    2637024  5/27/1977   \n",
       "1    2033608     2      4084.0           1.0       498    4670632   6/3/1977   \n",
       "2     369188     3       750.0           1.0       492    5039820  6/10/1977   \n",
       "3     130180     4       657.0           1.0       198    5170000  6/17/1977   \n",
       "4    5473681     5     34864.0           NaN       157   15628913  6/17/1977   \n",
       "\n",
       "   Year  Month  Day  \n",
       "0  1977      5   27  \n",
       "1  1977      6    3  \n",
       "2  1977      6   10  \n",
       "3  1977      6   17  \n",
       "4  1977      6   17  "
      ]
     },
     "execution_count": 5,
     "metadata": {},
     "output_type": "execute_result"
    }
   ],
   "source": [
    "# Parse Date\n",
    "month = []\n",
    "year = []\n",
    "day = []\n",
    "dates = pd.Series(df_wn['weekEnded'])\n",
    "for date in dates:\n",
    "    d = parse(date)\n",
    "    year.append(d.year)\n",
    "    month.append(d.month)\n",
    "    day.append(d.day)\n",
    "\n",
    "\n",
    "df_wn['Year'] = year\n",
    "df_wn['Month'] = month\n",
    "df_wn['Day'] = day \n",
    "\n",
    "df_wn.head()"
   ]
  },
  {
   "cell_type": "code",
   "execution_count": 6,
   "metadata": {
    "scrolled": true
   },
   "outputs": [
    {
     "name": "stderr",
     "output_type": "stream",
     "text": [
      "/usr/local/lib/python2.7/site-packages/ipykernel_launcher.py:6: FutureWarning: elementwise comparison failed; returning scalar instead, but in the future will perform elementwise comparison\n",
      "  \n",
      "/usr/local/lib/python2.7/site-packages/ipykernel_launcher.py:6: VisibleDeprecationWarning: using a boolean instead of an integer will result in an error in the future\n",
      "  \n"
     ]
    },
    {
     "name": "stdout",
     "output_type": "stream",
     "text": [
      "12343\n",
      "1002\n"
     ]
    },
    {
     "data": {
      "text/html": [
       "<div>\n",
       "<table border=\"1\" class=\"dataframe\">\n",
       "  <thead>\n",
       "    <tr style=\"text-align: right;\">\n",
       "      <th></th>\n",
       "      <th>filmName</th>\n",
       "      <th>change</th>\n",
       "      <th>currentRank</th>\n",
       "      <th>distributor</th>\n",
       "      <th>weekGross</th>\n",
       "      <th>week</th>\n",
       "      <th>perTheater</th>\n",
       "      <th>previousRank</th>\n",
       "      <th>theaters</th>\n",
       "      <th>cumeGross</th>\n",
       "      <th>weekEnded</th>\n",
       "      <th>Year</th>\n",
       "      <th>Month</th>\n",
       "      <th>Day</th>\n",
       "      <th>Genre</th>\n",
       "    </tr>\n",
       "  </thead>\n",
       "  <tbody>\n",
       "    <tr>\n",
       "      <th>0</th>\n",
       "      <td>Smokey and the Bandit</td>\n",
       "      <td>NaN</td>\n",
       "      <td>1</td>\n",
       "      <td>Universal</td>\n",
       "      <td>2637024</td>\n",
       "      <td>1</td>\n",
       "      <td>5295.0</td>\n",
       "      <td>NaN</td>\n",
       "      <td>498</td>\n",
       "      <td>2637024</td>\n",
       "      <td>5/27/1977</td>\n",
       "      <td>1977</td>\n",
       "      <td>5</td>\n",
       "      <td>27</td>\n",
       "      <td>NaN</td>\n",
       "    </tr>\n",
       "    <tr>\n",
       "      <th>1</th>\n",
       "      <td>Smokey and the Bandit</td>\n",
       "      <td>-23%</td>\n",
       "      <td>1</td>\n",
       "      <td>Universal</td>\n",
       "      <td>2033608</td>\n",
       "      <td>2</td>\n",
       "      <td>4084.0</td>\n",
       "      <td>1.0</td>\n",
       "      <td>498</td>\n",
       "      <td>4670632</td>\n",
       "      <td>6/3/1977</td>\n",
       "      <td>1977</td>\n",
       "      <td>6</td>\n",
       "      <td>3</td>\n",
       "      <td>1</td>\n",
       "    </tr>\n",
       "    <tr>\n",
       "      <th>2</th>\n",
       "      <td>Smokey and the Bandit</td>\n",
       "      <td>-82%</td>\n",
       "      <td>1</td>\n",
       "      <td>Universal</td>\n",
       "      <td>369188</td>\n",
       "      <td>3</td>\n",
       "      <td>750.0</td>\n",
       "      <td>1.0</td>\n",
       "      <td>492</td>\n",
       "      <td>5039820</td>\n",
       "      <td>6/10/1977</td>\n",
       "      <td>1977</td>\n",
       "      <td>6</td>\n",
       "      <td>10</td>\n",
       "      <td>1</td>\n",
       "    </tr>\n",
       "    <tr>\n",
       "      <th>3</th>\n",
       "      <td>Smokey and the Bandit</td>\n",
       "      <td>-65%</td>\n",
       "      <td>2</td>\n",
       "      <td>Universal</td>\n",
       "      <td>130180</td>\n",
       "      <td>4</td>\n",
       "      <td>657.0</td>\n",
       "      <td>1.0</td>\n",
       "      <td>198</td>\n",
       "      <td>5170000</td>\n",
       "      <td>6/17/1977</td>\n",
       "      <td>1977</td>\n",
       "      <td>6</td>\n",
       "      <td>17</td>\n",
       "      <td>1</td>\n",
       "    </tr>\n",
       "    <tr>\n",
       "      <th>4</th>\n",
       "      <td>Star Wars Ep. IV: A New Hope</td>\n",
       "      <td>NaN</td>\n",
       "      <td>1</td>\n",
       "      <td>20th Century Fox</td>\n",
       "      <td>5473681</td>\n",
       "      <td>5</td>\n",
       "      <td>34864.0</td>\n",
       "      <td>NaN</td>\n",
       "      <td>157</td>\n",
       "      <td>15628913</td>\n",
       "      <td>6/17/1977</td>\n",
       "      <td>1977</td>\n",
       "      <td>6</td>\n",
       "      <td>17</td>\n",
       "      <td>1</td>\n",
       "    </tr>\n",
       "  </tbody>\n",
       "</table>\n",
       "</div>"
      ],
      "text/plain": [
       "                       filmName change currentRank       distributor  \\\n",
       "0         Smokey and the Bandit    NaN           1         Universal   \n",
       "1         Smokey and the Bandit   -23%           1         Universal   \n",
       "2         Smokey and the Bandit   -82%           1         Universal   \n",
       "3         Smokey and the Bandit   -65%           2         Universal   \n",
       "4  Star Wars Ep. IV: A New Hope    NaN           1  20th Century Fox   \n",
       "\n",
       "   weekGross  week  perTheater  previousRank  theaters  cumeGross  weekEnded  \\\n",
       "0    2637024     1      5295.0           NaN       498    2637024  5/27/1977   \n",
       "1    2033608     2      4084.0           1.0       498    4670632   6/3/1977   \n",
       "2     369188     3       750.0           1.0       492    5039820  6/10/1977   \n",
       "3     130180     4       657.0           1.0       198    5170000  6/17/1977   \n",
       "4    5473681     5     34864.0           NaN       157   15628913  6/17/1977   \n",
       "\n",
       "   Year  Month  Day Genre  \n",
       "0  1977      5   27   NaN  \n",
       "1  1977      6    3     1  \n",
       "2  1977      6   10     1  \n",
       "3  1977      6   17     1  \n",
       "4  1977      6   17     1  "
      ]
     },
     "execution_count": 6,
     "metadata": {},
     "output_type": "execute_result"
    }
   ],
   "source": [
    "# Combine data into one data set\n",
    "a = df_wn['filmName'].unique()\n",
    "b = df_hws['filmName'].unique()\n",
    "df = df_wn\n",
    "g = np.ones(len(df))\n",
    "g[g == '1'] = 'NaN'\n",
    "df['Genre'] = g\n",
    "\n",
    "print len(a)\n",
    "print len(b)\n",
    "for n in b: \n",
    "    if n in a:\n",
    "        # find genre\n",
    "        g = df_hws['genre'][np.argwhere(df_hws['filmName'] == n)[0]]\n",
    "        # Locate the filename in df\n",
    "        locs = np.argwhere(df['filmName'] == n)\n",
    "        # replcae genere names in correct locations\n",
    "        df.loc[locs[:,0],\"Genre\"] = g.values[0]\n",
    "    \n",
    "df.head()"
   ]
  },
  {
   "cell_type": "code",
   "execution_count": 7,
   "metadata": {},
   "outputs": [],
   "source": [
    "df.to_csv('weekly_number_wGenre.csv')"
   ]
  },
  {
   "cell_type": "code",
   "execution_count": 8,
   "metadata": {},
   "outputs": [
    {
     "name": "stdout",
     "output_type": "stream",
     "text": [
      "['filmName', 'change', 'currentRank', 'distributor', 'weekGross', 'week', 'perTheater', 'previousRank', 'theaters', 'cumeGross', 'weekEnded', 'Year', 'Month', 'Day', 'Genre']\n"
     ]
    },
    {
     "data": {
      "text/html": [
       "<div>\n",
       "<table border=\"1\" class=\"dataframe\">\n",
       "  <thead>\n",
       "    <tr style=\"text-align: right;\">\n",
       "      <th></th>\n",
       "      <th>filmName</th>\n",
       "      <th>change</th>\n",
       "      <th>currentRank</th>\n",
       "      <th>distributor</th>\n",
       "      <th>weekGross</th>\n",
       "      <th>week</th>\n",
       "      <th>perTheater</th>\n",
       "      <th>previousRank</th>\n",
       "      <th>theaters</th>\n",
       "      <th>cumeGross</th>\n",
       "      <th>weekEnded</th>\n",
       "      <th>Year</th>\n",
       "      <th>Month</th>\n",
       "      <th>Day</th>\n",
       "      <th>Genre</th>\n",
       "    </tr>\n",
       "  </thead>\n",
       "  <tbody>\n",
       "    <tr>\n",
       "      <th>0</th>\n",
       "      <td>Smokey and the Bandit</td>\n",
       "      <td>NaN</td>\n",
       "      <td>1</td>\n",
       "      <td>Universal</td>\n",
       "      <td>2637024</td>\n",
       "      <td>1</td>\n",
       "      <td>5295.0</td>\n",
       "      <td>NaN</td>\n",
       "      <td>498</td>\n",
       "      <td>2637024</td>\n",
       "      <td>5/27/1977</td>\n",
       "      <td>1977</td>\n",
       "      <td>5</td>\n",
       "      <td>27</td>\n",
       "      <td>NaN</td>\n",
       "    </tr>\n",
       "    <tr>\n",
       "      <th>1</th>\n",
       "      <td>Smokey and the Bandit</td>\n",
       "      <td>-23%</td>\n",
       "      <td>1</td>\n",
       "      <td>Universal</td>\n",
       "      <td>2033608</td>\n",
       "      <td>2</td>\n",
       "      <td>4084.0</td>\n",
       "      <td>1.0</td>\n",
       "      <td>498</td>\n",
       "      <td>4670632</td>\n",
       "      <td>6/3/1977</td>\n",
       "      <td>1977</td>\n",
       "      <td>6</td>\n",
       "      <td>3</td>\n",
       "      <td>1</td>\n",
       "    </tr>\n",
       "    <tr>\n",
       "      <th>2</th>\n",
       "      <td>Smokey and the Bandit</td>\n",
       "      <td>-82%</td>\n",
       "      <td>1</td>\n",
       "      <td>Universal</td>\n",
       "      <td>369188</td>\n",
       "      <td>3</td>\n",
       "      <td>750.0</td>\n",
       "      <td>1.0</td>\n",
       "      <td>492</td>\n",
       "      <td>5039820</td>\n",
       "      <td>6/10/1977</td>\n",
       "      <td>1977</td>\n",
       "      <td>6</td>\n",
       "      <td>10</td>\n",
       "      <td>1</td>\n",
       "    </tr>\n",
       "    <tr>\n",
       "      <th>3</th>\n",
       "      <td>Smokey and the Bandit</td>\n",
       "      <td>-65%</td>\n",
       "      <td>2</td>\n",
       "      <td>Universal</td>\n",
       "      <td>130180</td>\n",
       "      <td>4</td>\n",
       "      <td>657.0</td>\n",
       "      <td>1.0</td>\n",
       "      <td>198</td>\n",
       "      <td>5170000</td>\n",
       "      <td>6/17/1977</td>\n",
       "      <td>1977</td>\n",
       "      <td>6</td>\n",
       "      <td>17</td>\n",
       "      <td>1</td>\n",
       "    </tr>\n",
       "    <tr>\n",
       "      <th>4</th>\n",
       "      <td>Star Wars Ep. IV: A New Hope</td>\n",
       "      <td>NaN</td>\n",
       "      <td>1</td>\n",
       "      <td>20th Century Fox</td>\n",
       "      <td>5473681</td>\n",
       "      <td>5</td>\n",
       "      <td>34864.0</td>\n",
       "      <td>NaN</td>\n",
       "      <td>157</td>\n",
       "      <td>15628913</td>\n",
       "      <td>6/17/1977</td>\n",
       "      <td>1977</td>\n",
       "      <td>6</td>\n",
       "      <td>17</td>\n",
       "      <td>1</td>\n",
       "    </tr>\n",
       "  </tbody>\n",
       "</table>\n",
       "</div>"
      ],
      "text/plain": [
       "                       filmName change currentRank       distributor  \\\n",
       "0         Smokey and the Bandit    NaN           1         Universal   \n",
       "1         Smokey and the Bandit   -23%           1         Universal   \n",
       "2         Smokey and the Bandit   -82%           1         Universal   \n",
       "3         Smokey and the Bandit   -65%           2         Universal   \n",
       "4  Star Wars Ep. IV: A New Hope    NaN           1  20th Century Fox   \n",
       "\n",
       "   weekGross  week  perTheater  previousRank  theaters  cumeGross  weekEnded  \\\n",
       "0    2637024     1      5295.0           NaN       498    2637024  5/27/1977   \n",
       "1    2033608     2      4084.0           1.0       498    4670632   6/3/1977   \n",
       "2     369188     3       750.0           1.0       492    5039820  6/10/1977   \n",
       "3     130180     4       657.0           1.0       198    5170000  6/17/1977   \n",
       "4    5473681     5     34864.0           NaN       157   15628913  6/17/1977   \n",
       "\n",
       "   Year  Month  Day Genre  \n",
       "0  1977      5   27   NaN  \n",
       "1  1977      6    3     1  \n",
       "2  1977      6   10     1  \n",
       "3  1977      6   17     1  \n",
       "4  1977      6   17     1  "
      ]
     },
     "execution_count": 8,
     "metadata": {},
     "output_type": "execute_result"
    }
   ],
   "source": [
    "print list(df.columns)\n",
    "df.head()"
   ]
  },
  {
   "cell_type": "code",
   "execution_count": 9,
   "metadata": {
    "scrolled": true
   },
   "outputs": [
    {
     "name": "stdout",
     "output_type": "stream",
     "text": [
      "(126644, 15)\n",
      "(121408, 15)\n"
     ]
    }
   ],
   "source": [
    "# Filter only movies with distrbutors\n",
    "null = np.argwhere(df['distributor'].isnull().values)\n",
    "print df.shape\n",
    "# Remove rows without genres\n",
    "df = df.drop(df.index[list(null[:,0])])\n",
    "print df.shape\n"
   ]
  },
  {
   "cell_type": "code",
   "execution_count": 10,
   "metadata": {},
   "outputs": [
    {
     "data": {
      "text/plain": [
       "['filmName',\n",
       " 'change',\n",
       " 'currentRank',\n",
       " 'distributor',\n",
       " 'weekGross',\n",
       " 'week',\n",
       " 'perTheater',\n",
       " 'previousRank',\n",
       " 'theaters',\n",
       " 'cumeGross',\n",
       " 'weekEnded',\n",
       " 'Year',\n",
       " 'Month',\n",
       " 'Day',\n",
       " 'Genre']"
      ]
     },
     "execution_count": 10,
     "metadata": {},
     "output_type": "execute_result"
    }
   ],
   "source": [
    "list(df.columns)"
   ]
  },
  {
   "cell_type": "code",
   "execution_count": 11,
   "metadata": {},
   "outputs": [
    {
     "name": "stdout",
     "output_type": "stream",
     "text": [
      "(4178, 4)\n"
     ]
    }
   ],
   "source": [
    "# Create overall df for overview visual\n",
    "# Calculate yearly gross value by genre\n",
    "overall_df = pd.DataFrame(columns=['Studio','Month','avg_Monthly_gross','avg_Monthly_cume_Gross'])\n",
    "# 'Year'\n",
    "\n",
    "c = 0\n",
    "ds = df.distributor.unique()\n",
    "tgross = []\n",
    "cgross = []\n",
    "for dist in ds:\n",
    "    dfg = df.loc[(df.distributor== dist)]\n",
    "    # years = dfg['Year'].unique()\n",
    "    mos = dfg['Month'].unique()\n",
    "    # for year in years[1:len(years)]: \n",
    "    for mo in mos: \n",
    "        # df_y = dfg.loc[(dfg['Year']== year)]\n",
    "        df_m = dfg.loc[(dfg['Month']== mo)]\n",
    "        for yr in df_m['Year'].unique(): \n",
    "            df_y = df_m.loc[(df_m['Year']== yr)]\n",
    "            tgross.append(sum(df_y['weekGross']))\n",
    "            cgross.append(sum(df_y['cumeGross']))\n",
    "        rowi = pd.DataFrame({'Studio': dist,'Month':mo,'avg_Monthly_gross':np.mean(tgross),\n",
    "                             'avg_Monthly_cume_Gross':np.mean(cgross)}, index=[0]) \n",
    "        overall_df = pd.concat([overall_df, rowi], axis = 0)\n",
    "        \n",
    "print overall_df.shape\n",
    "overall_df.head()\n",
    "overall_df.to_csv('Studio_overall_data_mo.csv')\n"
   ]
  },
  {
   "cell_type": "code",
   "execution_count": 19,
   "metadata": {},
   "outputs": [],
   "source": [
    "overall_df['Studio'].unique()\n",
    "\n",
    "profit_df = pd.DataFrame(columns=['Studio','Profit'])\n",
    "for studio in overall_df['Studio'].unique():\n",
    "    s = sum(overall_df['avg_Monthly_gross'][overall_df['Studio'] == studio])\n",
    "    rowi = pd.DataFrame({'Studio': studio,'Profit':s}, index=[0]) \n",
    "    profit_df = pd.concat([profit_df, rowi], axis = 0 )\n",
    "\n"
   ]
  },
  {
   "cell_type": "code",
   "execution_count": 29,
   "metadata": {},
   "outputs": [
    {
     "name": "stdout",
     "output_type": "stream",
     "text": [
      "1/1/1982 9/9/2016\n"
     ]
    }
   ],
   "source": [
    "df.head()\n",
    "list(df.columns)\n",
    "print min(df['weekEnded']), max(df['weekEnded'])"
   ]
  },
  {
   "cell_type": "code",
   "execution_count": 35,
   "metadata": {},
   "outputs": [
    {
     "name": "stdout",
     "output_type": "stream",
     "text": [
      "Number of films: 11596\n",
      "Date Range: \n",
      "1/1/1982 9/9/2016\n",
      "Number of Distributors 752\n"
     ]
    }
   ],
   "source": [
    "# Print details about data set\n",
    "print \"Number of films: %i\" % len(df['filmName'].unique())\n",
    "print \"Date Range: \"\n",
    "print min(df['weekEnded']), max(df['weekEnded'])\n",
    "print \"Number of Distributors %i\" % len(df['distributor'].unique())\n",
    "\n"
   ]
  },
  {
   "cell_type": "code",
   "execution_count": 36,
   "metadata": {},
   "outputs": [
    {
     "name": "stdout",
     "output_type": "stream",
     "text": [
      "         Profit            Studio\n",
      "0  9.216546e+08         Universal\n",
      "0  8.185128e+08  20th Century Fox\n",
      "0  8.059003e+08     Sony Pictures\n",
      "0  7.907792e+08    Orion Pictures\n",
      "0  7.769361e+08           Embassy\n"
     ]
    }
   ],
   "source": [
    "top_25_df = profit_df.sort_values('Profit', ascending = False)[:25]\n",
    "top_25_studios = profit_df.sort_values('Profit', ascending = False)[:25]['Studio']\n",
    "print top_25_df.head()"
   ]
  },
  {
   "cell_type": "code",
   "execution_count": 37,
   "metadata": {},
   "outputs": [],
   "source": [
    "# Seleect only top 25 studios from datafram\n",
    "t25_df = pd.DataFrame(columns=['Studio','Month','avg_Monthly_gross','avg_Monthly_cume_Gross'])\n",
    "for st in top_25_studios:\n",
    "    t25 = overall_df[overall_df['Studio'] == st]\n",
    "    t25_df = pd.concat([t25_df,t25], axis = 0)\n",
    "\n",
    "t25_df['Total_gross_mil'] = t25_df['avg_Monthly_gross']/1000000\n",
    "t25_df.to_csv('Top25_Studio_overall_data_mo.csv')"
   ]
  },
  {
   "cell_type": "code",
   "execution_count": 38,
   "metadata": {},
   "outputs": [
    {
     "data": {
      "text/plain": [
       "['Month',\n",
       " 'Studio',\n",
       " 'avg_Monthly_cume_Gross',\n",
       " 'avg_Monthly_gross',\n",
       " 'Total_gross_mil']"
      ]
     },
     "execution_count": 38,
     "metadata": {},
     "output_type": "execute_result"
    }
   ],
   "source": [
    "t25_df.sort_values('Month')[:10]\n",
    "sorted_df = t25_df.sort_values('Studio').sort_values('Month')\n",
    "sorted_df.head()\n",
    "list(t25_df.columns)"
   ]
  },
  {
   "cell_type": "code",
   "execution_count": null,
   "metadata": {},
   "outputs": [],
   "source": []
  },
  {
   "cell_type": "code",
   "execution_count": null,
   "metadata": {},
   "outputs": [],
   "source": [
    "a = []\n",
    "for i in range(len(sorted_df.Studio)):\n",
    "    a.append(\"{key : \\\"%s\\\", date: \\\"01/%i\\\", value: \\\"%0.2f\\\"}\" % (sorted_df['Studio'][0].values[i], \n",
    "                                                      sorted_df['Month'][0].values[i], \n",
    "                                                      sorted_df['Total_gross_mil'][0].values[i]))\n"
   ]
  },
  {
   "cell_type": "code",
   "execution_count": null,
   "metadata": {},
   "outputs": [],
   "source": [
    "t25_df.shape\n",
    "top_25_studios.values"
   ]
  },
  {
   "cell_type": "code",
   "execution_count": null,
   "metadata": {},
   "outputs": [
    {
     "name": "stdout",
     "output_type": "stream",
     "text": [
      "1 Universal\n",
      "Index([u'filmName', u'change', u'currentRank', u'distributor', u'weekGross',\n",
      "       u'week', u'perTheater', u'previousRank', u'theaters', u'cumeGross',\n",
      "       u'weekEnded', u'Year', u'Month', u'Day', u'Genre'],\n",
      "      dtype='object')\n",
      "566\n",
      "(1606, 6)\n",
      "2 20th Century Fox\n",
      "Index([u'filmName', u'change', u'currentRank', u'distributor', u'weekGross',\n",
      "       u'week', u'perTheater', u'previousRank', u'theaters', u'cumeGross',\n",
      "       u'weekEnded', u'Year', u'Month', u'Day', u'Genre'],\n",
      "      dtype='object')\n",
      "532\n",
      "(2023, 6)\n",
      "3 Sony Pictures\n",
      "Index([u'filmName', u'change', u'currentRank', u'distributor', u'weekGross',\n",
      "       u'week', u'perTheater', u'previousRank', u'theaters', u'cumeGross',\n",
      "       u'weekEnded', u'Year', u'Month', u'Day', u'Genre'],\n",
      "      dtype='object')\n",
      "706\n"
     ]
    }
   ],
   "source": [
    "# Create Dataframe for each studio with the Monthly profit calculated by film \n",
    "c = 0\n",
    "film_count = 0\n",
    "print_txt = False\n",
    "\n",
    "# ds = df.distributor.unique()\n",
    "for dist in top_25_studios.values:\n",
    "    c = c+1\n",
    "    print c, dist\n",
    "    dfg = df.loc[(df.distributor == dist)]\n",
    "    studio_df = pd.DataFrame(columns=['Studio','Film','Month','Monthly_Gross',\n",
    "                                      'Monthly_Gross_Mil','Monthly_Cume_Gross'])\n",
    "    film_count = film_count + len(dfg['filmName'].unique())\n",
    "    for mo in dfg.Month.unique():\n",
    "        dfm = dfg.loc[(dfg.Month == mo)]        \n",
    "        for film in dfm.filmName.unique():\n",
    "            dff = dfm.loc[(dfg.filmName == film)]\n",
    "            rowi = pd.DataFrame({'Studio': dist,'Film':film, 'Month':mo,\n",
    "                                 'Monthly_Gross': sum(dff['weekGross']),\n",
    "                                 'Monthly_Gross_Mil': sum(dff['weekGross'])/1000000,\n",
    "                                 'Monthly_Cume_Gross': sum(dff['cumeGross'])}, index=[0]) \n",
    "            studio_df = pd.concat([studio_df, rowi], axis = 0)\n",
    "    print studio_df.shape\n",
    "    studio_df.to_csv(str(c) + '_Studio_data.csv')\n",
    "    \n",
    "    # Print for each Studio of interest \n",
    "    # file_txt = open(dist + '.txt','w')\n",
    "    if print_txt == True:\n",
    "        for m in range(12):\n",
    "            for i in range(len(studio_df['Film'].unique())):\n",
    "                # f = studio_df['Film'][0].values[i]\n",
    "                f = studio_df['Film'].unique()[i]\n",
    "                c = studio_df[studio_df.Month == m+1]\n",
    "                if len(c[c['Film'].astype(str).str.contains(f)]):\n",
    "                    temp = studio_df[studio_df.Month == m+1]\n",
    "                    temp = temp[temp.Film == f]\n",
    "                    if len(temp['Monthly_Gross']) == 0:\n",
    "                        profit = 0.00\n",
    "                        continue\n",
    "                    profit = temp['Monthly_Gross'].values[0]\n",
    "                else: \n",
    "                    profit = 0.00 \n",
    "        \n",
    "                txt = \"{key: \\\"%s\\\", date: \\\"01/%i\\\", value: \\\"%0.2f\\\"},\" % (f, m+1, profit)\n",
    "                print txt\n",
    "                # file_txt.write(txt)\n",
    "            # file_txt.close()\n",
    "            \n",
    "print film_count\n",
    "\n",
    "\n"
   ]
  },
  {
   "cell_type": "code",
   "execution_count": 39,
   "metadata": {},
   "outputs": [
    {
     "ename": "AttributeError",
     "evalue": "'Series' object has no attribute 'columns'",
     "output_type": "error",
     "traceback": [
      "\u001b[0;31m---------------------------------------------------------------------------\u001b[0m",
      "\u001b[0;31mAttributeError\u001b[0m                            Traceback (most recent call last)",
      "\u001b[0;32m<ipython-input-39-0a87e56ed5a0>\u001b[0m in \u001b[0;36m<module>\u001b[0;34m()\u001b[0m\n\u001b[1;32m      1\u001b[0m \u001b[0mtop_25_studios\u001b[0m\u001b[0;34m.\u001b[0m\u001b[0mvalues\u001b[0m\u001b[0;34m[\u001b[0m\u001b[0;36m4\u001b[0m\u001b[0;34m:\u001b[0m\u001b[0;36m5\u001b[0m\u001b[0;34m]\u001b[0m\u001b[0;34m\u001b[0m\u001b[0m\n\u001b[0;32m----> 2\u001b[0;31m \u001b[0mtop_25_studios\u001b[0m\u001b[0;34m.\u001b[0m\u001b[0mcolumns\u001b[0m\u001b[0;34m\u001b[0m\u001b[0m\n\u001b[0m",
      "\u001b[0;32m/usr/local/lib/python2.7/site-packages/pandas/core/generic.pyc\u001b[0m in \u001b[0;36m__getattr__\u001b[0;34m(self, name)\u001b[0m\n\u001b[1;32m   2666\u001b[0m         if (name in self._internal_names_set or name in self._metadata or\n\u001b[1;32m   2667\u001b[0m                 name in self._accessors):\n\u001b[0;32m-> 2668\u001b[0;31m             \u001b[0;32mreturn\u001b[0m \u001b[0mobject\u001b[0m\u001b[0;34m.\u001b[0m\u001b[0m__getattribute__\u001b[0m\u001b[0;34m(\u001b[0m\u001b[0mself\u001b[0m\u001b[0;34m,\u001b[0m \u001b[0mname\u001b[0m\u001b[0;34m)\u001b[0m\u001b[0;34m\u001b[0m\u001b[0m\n\u001b[0m\u001b[1;32m   2669\u001b[0m         \u001b[0;32melse\u001b[0m\u001b[0;34m:\u001b[0m\u001b[0;34m\u001b[0m\u001b[0m\n\u001b[1;32m   2670\u001b[0m             \u001b[0;32mif\u001b[0m \u001b[0mname\u001b[0m \u001b[0;32min\u001b[0m \u001b[0mself\u001b[0m\u001b[0;34m.\u001b[0m\u001b[0m_info_axis\u001b[0m\u001b[0;34m:\u001b[0m\u001b[0;34m\u001b[0m\u001b[0m\n",
      "\u001b[0;31mAttributeError\u001b[0m: 'Series' object has no attribute 'columns'"
     ]
    }
   ],
   "source": [
    "top_25_studios.values[4:5]\n"
   ]
  },
  {
   "cell_type": "code",
   "execution_count": null,
   "metadata": {},
   "outputs": [],
   "source": [
    "# Print Data \n",
    "# { key: \"Zapped!\", date: \"01/01\", value: \"0\" },\n",
    "name = 'hey'\n",
    "file_txt = open(name + '.txt','w')\n",
    "# Print for each Studio of interest \n",
    "for m in range(12):\n",
    "    for i in range(len(studio_df['Film'].unique())):\n",
    "        # f = studio_df['Film'][0].values[i]\n",
    "        f = studio_df['Film'].unique()[i]\n",
    "        c = studio_df[studio_df.Month == m+1]\n",
    "        if len(c[c['Film'].astype(str).str.contains(f)]):\n",
    "            temp = studio_df[studio_df.Month == m+1]\n",
    "            temp = temp[temp.Film == f]\n",
    "            if len(temp['Monthly_Gross']) == 0:\n",
    "                profit = 0.00\n",
    "                continue\n",
    "            profit = temp['Monthly_Gross'].values[0]\n",
    "        else: \n",
    "            profit = 0.00 \n",
    "        \n",
    "        txt = \"{key: \\\"%s\\\", date: \\\"01/%i\\\", value: \\\"%0.2f\\\"},\" % (f, m+1, profit)\n",
    "        print txt\n",
    "        file_txt.write(txt)\n",
    "\n",
    "    file_txt.close()\n",
    "\n",
    "\n"
   ]
  },
  {
   "cell_type": "code",
   "execution_count": null,
   "metadata": {},
   "outputs": [],
   "source": [
    "# https://matplotlib.org/examples/pie_and_polar_charts/polar_scatter_demo.html\n",
    "\n",
    "# size in gross income by movie\n",
    "# color is genre or distributor\n",
    "# circle around is month of year or year \n",
    "\n",
    "    \n",
    "print len(studio_df['Film'].unique())\n",
    "print studio_df['Film'].unique()[11]\n",
    "studio_df['Film'].unique()"
   ]
  },
  {
   "cell_type": "code",
   "execution_count": null,
   "metadata": {},
   "outputs": [],
   "source": []
  }
 ],
 "metadata": {
  "kernelspec": {
   "display_name": "Python 2",
   "language": "python",
   "name": "python2"
  },
  "language_info": {
   "codemirror_mode": {
    "name": "ipython",
    "version": 2
   },
   "file_extension": ".py",
   "mimetype": "text/x-python",
   "name": "python",
   "nbconvert_exporter": "python",
   "pygments_lexer": "ipython2",
   "version": "2.7.11"
  }
 },
 "nbformat": 4,
 "nbformat_minor": 2
}
